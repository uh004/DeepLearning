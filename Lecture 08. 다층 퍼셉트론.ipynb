{
 "cells": [
  {
   "cell_type": "markdown",
   "id": "3f008964",
   "metadata": {},
   "source": [
    "# 01. 다층 퍼셉트론의 등장\n",
    "- 2차원 평면에서만 해결하려니까 안됨 3차원으로 공간을 달리하니 해결\n",
    "- 퍼셉트론 두 개를 한 번에 계산하면 된다는 결론 그래서 이를 위해 퍼셉트론 두 개를 각각 처리하는 은닉층(Hiddend Layer)을 만듬"
   ]
  },
  {
   "cell_type": "markdown",
   "id": "5f043438",
   "metadata": {},
   "source": [
    "# 04. 코딩으로 XOR 문제 해결하기"
   ]
  },
  {
   "cell_type": "code",
   "execution_count": 2,
   "id": "1b7d66c5",
   "metadata": {},
   "outputs": [
    {
     "name": "stdout",
     "output_type": "stream",
     "text": [
      "입력 값: (0, 0) 출력 값: 0\n",
      "입력 값: (1, 0) 출력 값: 1\n",
      "입력 값: (0, 1) 출력 값: 1\n",
      "입력 값: (1, 1) 출력 값: 0\n"
     ]
    }
   ],
   "source": [
    "import numpy as np\n",
    "\n",
    "# 가중치와 바이어스\n",
    "w11 = np.array([-2, -2])\n",
    "w12 = np.array([2, 2])\n",
    "w2 = np.array([1, 1])\n",
    "b1 = 3\n",
    "b2 = -1\n",
    "b3 = -1\n",
    "\n",
    "# 퍼셉트론\n",
    "def MLP(x, w, b):\n",
    "    y = np.sum(w * x) + b\n",
    "    if y <= 0:\n",
    "        return 0\n",
    "    else:\n",
    "        return 1\n",
    "    \n",
    "# NAND 게이트\n",
    "def NAND(x1, x2):\n",
    "    return MLP(np.array([x1, x2]), w11, b1)\n",
    "\n",
    "# OR 게이트\n",
    "def OR(x1, x2):\n",
    "    return MLP(np.array([x1, x2]), w12, b2)\n",
    "\n",
    "# AND 게이트\n",
    "def AND(x1, x2):\n",
    "    return MLP(np.array([x1, x2]), w2, b3)\n",
    "\n",
    "# XOR 게이트\n",
    "def XOR(x1, x2):\n",
    "    return AND(NAND(x1, x2), OR(x1, x2))\n",
    "\n",
    "# x1 값, x2 값을 번갈아 대입하며 최종 값 출력\n",
    "for x in [(0,0,), (1,0), (0,1), (1,1)]:\n",
    "    y = XOR(x[0], x[1])\n",
    "    print('입력 값: ' + str(x) + \" 출력 값: \" + str(y))"
   ]
  }
 ],
 "metadata": {
  "kernelspec": {
   "display_name": "Python 3 (ipykernel)",
   "language": "python",
   "name": "python3"
  },
  "language_info": {
   "codemirror_mode": {
    "name": "ipython",
    "version": 3
   },
   "file_extension": ".py",
   "mimetype": "text/x-python",
   "name": "python",
   "nbconvert_exporter": "python",
   "pygments_lexer": "ipython3",
   "version": "3.9.13"
  }
 },
 "nbformat": 4,
 "nbformat_minor": 5
}
