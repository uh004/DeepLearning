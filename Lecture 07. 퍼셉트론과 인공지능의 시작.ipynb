{
 "cells": [
  {
   "cell_type": "markdown",
   "id": "c32b94f6",
   "metadata": {},
   "source": [
    "# 01. 인공지능의 시작을 알린 퍼셉트론\n",
    "- 입력 값을 여러 개 받아 출력을 만드는데, 이때 입력 값에 가중치를 조절할 수 있게 만들어 최초로 학습을 하게 했음\n",
    "- 가중합(Weighted Sum): 입력 값과 가중치를 모두 곱한 후 바이어스를 더한 값을 의미"
   ]
  },
  {
   "cell_type": "markdown",
   "id": "7cdbfa31",
   "metadata": {},
   "source": [
    "# 02. 퍼셉트론의 과제\n",
    "- 선으로는 같은 색끼리 나눌 수 없다."
   ]
  },
  {
   "cell_type": "markdown",
   "id": "2e8927ce",
   "metadata": {},
   "source": [
    "# 03. XOR 문제\n",
    "- AND(논리곱): 둘다 1 일때 결과 값이 1\n",
    "- OR(논리합): 둘 중 하나라도 1이면 1\n",
    "- XOR(배타적 논리합): 둘 중 하나만 1일때 1"
   ]
  }
 ],
 "metadata": {
  "kernelspec": {
   "display_name": "Python 3 (ipykernel)",
   "language": "python",
   "name": "python3"
  },
  "language_info": {
   "codemirror_mode": {
    "name": "ipython",
    "version": 3
   },
   "file_extension": ".py",
   "mimetype": "text/x-python",
   "name": "python",
   "nbconvert_exporter": "python",
   "pygments_lexer": "ipython3",
   "version": "3.9.13"
  }
 },
 "nbformat": 4,
 "nbformat_minor": 5
}
