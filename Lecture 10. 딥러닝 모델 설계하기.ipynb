{
 "cells": [
  {
   "cell_type": "markdown",
   "id": "54c42fe6",
   "metadata": {},
   "source": [
    "# 01. 모델의 정의"
   ]
  },
  {
   "cell_type": "markdown",
   "id": "f9b7f633",
   "metadata": {},
   "source": [
    "# 1. 환경준비"
   ]
  },
  {
   "cell_type": "code",
   "execution_count": 1,
   "id": "0d4e1b04",
   "metadata": {},
   "outputs": [],
   "source": [
    "# 텐서플로 라이브러리 안에 있는 케라스 API에서 필요한 함수들을 불러온다.\n",
    "from tensorflow.keras.models import Sequential\n",
    "from tensorflow.keras.layers import Dense\n",
    "\n",
    "# 데이터를 다루는 데 필요한 라이브러리를 불러옵니다.\n",
    "import numpy as np"
   ]
  },
  {
   "cell_type": "markdown",
   "id": "9cf94381",
   "metadata": {},
   "source": [
    "# 2. 데이터 준비"
   ]
  },
  {
   "cell_type": "code",
   "execution_count": 2,
   "id": "0823855b",
   "metadata": {},
   "outputs": [],
   "source": [
    "# 준비된 수술 환자 데이터를 불러옵니다.\n",
    "Data_set = np.loadtxt('ThoracicSurgery3.csv', delimiter=\",\")\n",
    "\n",
    "x = Data_set[:, 0:16] # 환자의 진찰 기록을 x로 지정한다.\n",
    "y = Data_set[:, 16] # 수술 1년 후 사망/생존 여부를 y로 지정한다."
   ]
  },
  {
   "cell_type": "markdown",
   "id": "88269fef",
   "metadata": {},
   "source": [
    "# 3. 구조 결정"
   ]
  },
  {
   "cell_type": "code",
   "execution_count": 3,
   "id": "bce24f29",
   "metadata": {},
   "outputs": [],
   "source": [
    "# 딥러닝 모델의 구조를 결정한다.\n",
    "model = Sequential() # 딥러닝 모델의 구조를 만들고 층을 설정\n",
    "# 나머지는 은닉층, Dense() 함수 첫 번째 인자 몇개의 \n",
    "# 노드(가중합: 이전 층에서 전달된 변수와 가중치, 바이어스가 하나로 모임)를 이 층에 만들것인지\n",
    "# input_dim = 입력층 몇개인지\n",
    "model.add(Dense(30, input_dim=16, activation='relu'))\n",
    "model.add(Dense(1, activation='sigmoid')) # 맨 마지막 층은 출력층"
   ]
  },
  {
   "cell_type": "markdown",
   "id": "04bf1e97",
   "metadata": {},
   "source": [
    "# 4. 모델 실행"
   ]
  },
  {
   "cell_type": "code",
   "execution_count": 5,
   "id": "82a43d92",
   "metadata": {},
   "outputs": [
    {
     "name": "stdout",
     "output_type": "stream",
     "text": [
      "Epoch 1/5\n",
      "30/30 [==============================] - 0s 3ms/step - loss: 0.4444 - accuracy: 0.8511\n",
      "Epoch 2/5\n",
      "30/30 [==============================] - 0s 1ms/step - loss: 0.4306 - accuracy: 0.8511\n",
      "Epoch 3/5\n",
      "30/30 [==============================] - 0s 1ms/step - loss: 0.4268 - accuracy: 0.8511\n",
      "Epoch 4/5\n",
      "30/30 [==============================] - 0s 1ms/step - loss: 0.4191 - accuracy: 0.8511\n",
      "Epoch 5/5\n",
      "30/30 [==============================] - 0s 1ms/step - loss: 0.4171 - accuracy: 0.8511\n"
     ]
    }
   ],
   "source": [
    "# 딥러닝 모델을 실행합니다.\n",
    "model.compile(loss='binary_crossentropy', optimizer='adam', \n",
    "              metrics=['accuracy']) # 앞에서 정한 모델을 컴퓨터가 알아들을 수 있게 컴파일\n",
    "history = model.fit(x, y, epochs=5, batch_size=16) # 모델을 학습시킴 "
   ]
  }
 ],
 "metadata": {
  "kernelspec": {
   "display_name": "Python 3 (ipykernel)",
   "language": "python",
   "name": "python3"
  },
  "language_info": {
   "codemirror_mode": {
    "name": "ipython",
    "version": 3
   },
   "file_extension": ".py",
   "mimetype": "text/x-python",
   "name": "python",
   "nbconvert_exporter": "python",
   "pygments_lexer": "ipython3",
   "version": "3.9.13"
  }
 },
 "nbformat": 4,
 "nbformat_minor": 5
}
