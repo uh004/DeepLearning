{
 "cells": [
  {
   "cell_type": "markdown",
   "id": "a51fa530",
   "metadata": {},
   "source": [
    "# 01. 딥러닝의 태동, 오차 역전파"
   ]
  },
  {
   "cell_type": "markdown",
   "id": "c8cc513d",
   "metadata": {},
   "source": [
    "# 02. 활성화 함수와 고급 경사 하강법\n",
    "- 깊은 층을 만들어 보니 출력층에서 시작된 가중치 업데이트가 처음 층까지 전달 되지않는다. -> 기울기 소실 문제(Vanishing Gradient Problem)\n",
    "- 이를 해결하고자 렐루(ReLU)라는 새로운 활성화 함수 제안\n",
    "- 렐루는 x가 0보다 작을 때 출력 값을 0으로 처리하고, 0보다 큰 값은 x를 그대로 사용하는 방법"
   ]
  },
  {
   "cell_type": "markdown",
   "id": "1723a38c",
   "metadata": {},
   "source": [
    "# 03. 속도와 정확도 문제를 해결하는 고급 경사 하강법\n",
    "- 경사 하강법은 정확하게 가중치를 찾아가지만 계산량이 매우 많다는 단점\n",
    "- 이러한 점을 보완한 고급 경사 하강법이 등장"
   ]
  },
  {
   "cell_type": "markdown",
   "id": "aedffa23",
   "metadata": {},
   "source": [
    "### 확률적 경사 하강법(Stochastic Gradient Descent, SGD)\n",
    "- 전체 데이터를 사용하는 것이 아니라 랜덤하게 추출한 일부 데이터만 사용"
   ]
  },
  {
   "cell_type": "markdown",
   "id": "30e318d4",
   "metadata": {},
   "source": [
    "### 모멘텀 확률적 경사 하강법(Momentum SGD)\n",
    "- 모멘텀: 관성, 탄력, 가속도\n",
    "- 경사 하강법에 탄력을 더해 주는 것\n",
    "- 기울기를 구하지만 이를 통해 오차를 수정하기 전 바로 앞 수정 값과 방향(+, -)을 참고해 같은 방향으로 일정한 비율만 수정되는 방법\n",
    "- 지금은 아담(Adam)이라는고급 경사 하강법을 가장 많이 사용"
   ]
  }
 ],
 "metadata": {
  "kernelspec": {
   "display_name": "Python 3 (ipykernel)",
   "language": "python",
   "name": "python3"
  },
  "language_info": {
   "codemirror_mode": {
    "name": "ipython",
    "version": 3
   },
   "file_extension": ".py",
   "mimetype": "text/x-python",
   "name": "python",
   "nbconvert_exporter": "python",
   "pygments_lexer": "ipython3",
   "version": "3.9.13"
  }
 },
 "nbformat": 4,
 "nbformat_minor": 5
}
