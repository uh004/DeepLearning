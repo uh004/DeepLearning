{
 "cells": [
  {
   "cell_type": "markdown",
   "id": "1e4102bb",
   "metadata": {},
   "source": [
    "# 딥러닝 실행을 위해 필요한 세 가지\n",
    "1. 데이터\n",
    "2. 컴퓨터\n",
    "3. 프로그램"
   ]
  },
  {
   "cell_type": "markdown",
   "id": "e0fdea6c",
   "metadata": {},
   "source": [
    "# 데이터\n",
    "- 딥러닝은 데이터를 이용해 예측 또는 판별을 수행\n",
    "- 이때 사용되는 데이터는 이름표가 달려 있는지에 따라 두 종류로 나뉨\n",
    "- 반대로 이름표가 없이 개와 고양이 사진이 그냥 마구잡이로 섞여 있어도 딥러닝 활용가능\n",
    "- 지도학습, 비지도학습"
   ]
  },
  {
   "cell_type": "markdown",
   "id": "0703ad1b",
   "metadata": {},
   "source": [
    "# 컴퓨터(CPU? GPU?)\n",
    "- 딥러닝을 컴퓨터의 CPU에서 동작시킬지 아니면 고속 그래픽 처리에 특화된 전용 프로세서인 GPU에서 동작시킬지 선택할 수 있음"
   ]
  },
  {
   "cell_type": "markdown",
   "id": "04055d82",
   "metadata": {},
   "source": [
    "# 프로그램\n",
    "- 구글 코랩과 딥러닝 라이브러리를 활용하면 누구나 딥러닝을 어렵지 않게 구현 할 수 있음"
   ]
  },
  {
   "cell_type": "code",
   "execution_count": 1,
   "id": "2d272322",
   "metadata": {},
   "outputs": [
    {
     "name": "stdout",
     "output_type": "stream",
     "text": [
      "2.13.0\n"
     ]
    }
   ],
   "source": [
    "# 텐서플로우 버전 확인\n",
    "import tensorflow as tf\n",
    "print(tf.__version__)"
   ]
  }
 ],
 "metadata": {
  "kernelspec": {
   "display_name": "Python 3 (ipykernel)",
   "language": "python",
   "name": "python3"
  },
  "language_info": {
   "codemirror_mode": {
    "name": "ipython",
    "version": 3
   },
   "file_extension": ".py",
   "mimetype": "text/x-python",
   "name": "python",
   "nbconvert_exporter": "python",
   "pygments_lexer": "ipython3",
   "version": "3.9.13"
  }
 },
 "nbformat": 4,
 "nbformat_minor": 5
}
