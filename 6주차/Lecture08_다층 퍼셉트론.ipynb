{
 "cells": [
  {
   "cell_type": "code",
   "execution_count": 1,
   "id": "b395d2d5",
   "metadata": {},
   "outputs": [],
   "source": [
    "import numpy as np\n",
    "\n",
    "# 퍼셉트론 함수 만들기\n",
    "def Perceptron(x, w, b): # x 입력값 w 가중치 b 편향\n",
    "    y = np.sum(w * x) + b # x1 * w1 + x2 * w2 + b\n",
    "    if y <= 0: # 0이하이면 중요하지 않다.\n",
    "        return 0\n",
    "    else: # 0보다크면 중요하다\n",
    "        return 1"
   ]
  },
  {
   "cell_type": "code",
   "execution_count": 5,
   "id": "5fabb97c",
   "metadata": {},
   "outputs": [
    {
     "name": "stdout",
     "output_type": "stream",
     "text": [
      "입력값: [0, 0] 출력값: 1\n",
      "입력값: [0, 1] 출력값: 1\n",
      "입력값: [1, 0] 출력값: 1\n",
      "입력값: [1, 1] 출력값: 0\n"
     ]
    }
   ],
   "source": [
    "# NAND 게이트 만들기\n",
    "def NAND(x1, x2):\n",
    "    w = [-2, -2]\n",
    "    b = 3\n",
    "    return Perceptron(np.array([x1, x2]), w, b)\n",
    "\n",
    "for x in [[0, 0], [0, 1], [1, 0], [1, 1]]:\n",
    "    y = NAND(x[0], x[1])\n",
    "    print('입력값: ' + str(x), '출력값: ' + str(y))"
   ]
  },
  {
   "cell_type": "code",
   "execution_count": 6,
   "id": "b8cf5793",
   "metadata": {},
   "outputs": [
    {
     "name": "stdout",
     "output_type": "stream",
     "text": [
      "입력값: [0, 0] 출력값: 0\n",
      "입력값: [0, 1] 출력값: 1\n",
      "입력값: [1, 0] 출력값: 1\n",
      "입력값: [1, 1] 출력값: 1\n"
     ]
    }
   ],
   "source": [
    "# OR 게이트 만들기\n",
    "def OR(x1, x2):\n",
    "    w = [2,2]\n",
    "    b = -1\n",
    "    return Perceptron(np.array([x1,x2]), w, b)\n",
    "\n",
    "for x in [[0, 0], [0, 1], [1, 0], [1, 1]]:\n",
    "    y = OR(x[0], x[1])\n",
    "    print('입력값: ' + str(x), '출력값: ' + str(y))"
   ]
  },
  {
   "cell_type": "code",
   "execution_count": 7,
   "id": "9214d69f",
   "metadata": {},
   "outputs": [
    {
     "name": "stdout",
     "output_type": "stream",
     "text": [
      "입력값: [0, 0] 출력값: 0\n",
      "입력값: [0, 1] 출력값: 0\n",
      "입력값: [1, 0] 출력값: 0\n",
      "입력값: [1, 1] 출력값: 1\n"
     ]
    }
   ],
   "source": [
    "# AND 게이트 만들기\n",
    "def AND(x1, x2):\n",
    "    w = [1, 1]\n",
    "    b = -1\n",
    "    return Perceptron(np.array([x1, x2]), w, b)\n",
    "\n",
    "for x in [[0, 0], [0, 1], [1, 0], [1, 1]]:\n",
    "    y = AND(x[0], x[1])\n",
    "    print('입력값: ' + str(x), '출력값: ' + str(y))"
   ]
  },
  {
   "cell_type": "code",
   "execution_count": 8,
   "id": "17a412b7",
   "metadata": {},
   "outputs": [
    {
     "name": "stdout",
     "output_type": "stream",
     "text": [
      "입력값: [0, 0] 출력값: 0\n",
      "입력값: [0, 1] 출력값: 1\n",
      "입력값: [1, 0] 출력값: 1\n",
      "입력값: [1, 1] 출력값: 0\n"
     ]
    }
   ],
   "source": [
    "# XOR 게이트 만들기\n",
    "def XOR(x1, x2):\n",
    "    n1 = NAND(x1, x2) # NAND 게이트 출력  \n",
    "    n2 = OR(x1, x2)  # OR 게이트 출력\n",
    "    y = AND(n1, n2)  # AND 게이트 출력\n",
    "    return y\n",
    "\n",
    "for x in [[0, 0], [0, 1], [1, 0], [1, 1]]:\n",
    "    y = XOR(x[0], x[1])\n",
    "    print('입력값: ' + str(x), '출력값: ' + str(y))"
   ]
  },
  {
   "cell_type": "code",
   "execution_count": null,
   "id": "4ea7bd55",
   "metadata": {},
   "outputs": [],
   "source": []
  },
  {
   "cell_type": "code",
   "execution_count": null,
   "id": "16ff1b73",
   "metadata": {},
   "outputs": [],
   "source": []
  },
  {
   "cell_type": "code",
   "execution_count": null,
   "id": "acb2ce85",
   "metadata": {},
   "outputs": [],
   "source": []
  },
  {
   "cell_type": "code",
   "execution_count": null,
   "id": "019026c3",
   "metadata": {},
   "outputs": [],
   "source": []
  },
  {
   "cell_type": "code",
   "execution_count": null,
   "id": "851c5d92",
   "metadata": {},
   "outputs": [],
   "source": []
  },
  {
   "cell_type": "code",
   "execution_count": null,
   "id": "ee0dac19",
   "metadata": {},
   "outputs": [],
   "source": []
  },
  {
   "cell_type": "code",
   "execution_count": null,
   "id": "c6b624d0",
   "metadata": {},
   "outputs": [],
   "source": []
  },
  {
   "cell_type": "code",
   "execution_count": null,
   "id": "5517ddba",
   "metadata": {},
   "outputs": [],
   "source": []
  },
  {
   "cell_type": "code",
   "execution_count": null,
   "id": "7b8194b5",
   "metadata": {},
   "outputs": [],
   "source": []
  },
  {
   "cell_type": "code",
   "execution_count": null,
   "id": "14159a1b",
   "metadata": {},
   "outputs": [],
   "source": []
  },
  {
   "cell_type": "code",
   "execution_count": null,
   "id": "2ce76be1",
   "metadata": {},
   "outputs": [],
   "source": []
  },
  {
   "cell_type": "code",
   "execution_count": null,
   "id": "c8e552cf",
   "metadata": {},
   "outputs": [],
   "source": []
  },
  {
   "cell_type": "code",
   "execution_count": null,
   "id": "db91c1cf",
   "metadata": {},
   "outputs": [],
   "source": []
  },
  {
   "cell_type": "code",
   "execution_count": null,
   "id": "5b3d7d87",
   "metadata": {},
   "outputs": [],
   "source": []
  }
 ],
 "metadata": {
  "kernelspec": {
   "display_name": "Python 3 (ipykernel)",
   "language": "python",
   "name": "python3"
  },
  "language_info": {
   "codemirror_mode": {
    "name": "ipython",
    "version": 3
   },
   "file_extension": ".py",
   "mimetype": "text/x-python",
   "name": "python",
   "nbconvert_exporter": "python",
   "pygments_lexer": "ipython3",
   "version": "3.9.13"
  }
 },
 "nbformat": 4,
 "nbformat_minor": 5
}
