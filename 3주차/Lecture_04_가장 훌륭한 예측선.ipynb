{
 "cells": [
  {
   "cell_type": "markdown",
   "id": "2d598384",
   "metadata": {},
   "source": [
    "# 최소 제곱법"
   ]
  },
  {
   "cell_type": "code",
   "execution_count": 13,
   "id": "418fc7f1",
   "metadata": {},
   "outputs": [
    {
     "name": "stdout",
     "output_type": "stream",
     "text": [
      "x의 평균값:  5.0\n",
      "y의 평균값:  90.5\n",
      "분모:  20.0\n",
      "분자:  46.0\n",
      "기울기 a =  2.3\n",
      "y 절편 b =  79.0\n"
     ]
    }
   ],
   "source": [
    "import numpy as np\n",
    "\n",
    "# 공부한 시간과 점수를 각각 x, y라는 이름의 넘파이 배열로 만듭니다.\n",
    "x = np.array([2,4,6,8])\n",
    "y = np.array([81,93,91,97])\n",
    "\n",
    "# x의 평균값을 구합니다.\n",
    "mx = np.mean(x)\n",
    "\n",
    "# y의 평균값을 구합니다.\n",
    "my = np.mean(y)\n",
    "\n",
    "# 츨력으로 확인합니다.\n",
    "print('x의 평균값: ', mx)\n",
    "print('y의 평균값: ', my)\n",
    "\n",
    "# 기울기 공식의 분모 부분입니다.\n",
    "divisor = sum([(i - mx)**2 for i in x])\n",
    "\n",
    "# 기울기 공식의 분자 부분입니다.\n",
    "def top(x, mx, y, my):\n",
    "    d = 0\n",
    "    for i in range(len(x)):\n",
    "        d += (x[i] - mx) * (y[i] - my)\n",
    "    return d\n",
    "dividend = top(x,mx,y,my)\n",
    "\n",
    "print('분모: ', divisor)\n",
    "print('분자: ', dividend)\n",
    "\n",
    "# 기울기 a를 구하는 공식입니다.\n",
    "a = dividend / divisor\n",
    "\n",
    "# y 절편 b를 구하는 공식입니다.\n",
    "b = my - (mx*a)\n",
    "\n",
    "# 출력으로 확인합니다.\n",
    "print('기울기 a = ', a)\n",
    "print('y 절편 b = ', b)"
   ]
  },
  {
   "cell_type": "markdown",
   "id": "d85e1306",
   "metadata": {},
   "source": [
    "# 평균 제곱 오차"
   ]
  },
  {
   "cell_type": "code",
   "execution_count": 14,
   "id": "35390ae9",
   "metadata": {},
   "outputs": [
    {
     "name": "stdout",
     "output_type": "stream",
     "text": [
      "공부시간 = 2, 실제점수 = 81, 예측점수 = 82\n",
      "공부시간 = 4, 실제점수 = 93, 예측점수 = 88\n",
      "공부시간 = 6, 실제점수 = 91, 예측점수 = 94\n",
      "공부시간 = 8, 실제점수 = 97, 예측점수 = 100\n",
      "평균 제곱 오차: 11.0\n"
     ]
    }
   ],
   "source": [
    "import numpy as np\n",
    "\n",
    "# 가상의 기울기 a와 y 절편 b를 정합니다.\n",
    "fake_a = 3\n",
    "fake_b = 76\n",
    "\n",
    "# 공부 시간 x와 성적 y의 넘파이 배열을 만듭니다.\n",
    "x = np.array([2,4,6,8])\n",
    "y = np.array([81,93,91,97])\n",
    "\n",
    "# y = ax + b에 가상의 a 값과 b 값을 대입한 결과를 출력하는 함수입니다.\n",
    "def predict(x):\n",
    "    return fake_a * x + fake_b\n",
    "\n",
    "# 예측 값이 들어갈 빈 리스트를 만듭니다.\n",
    "predict_result = []\n",
    "\n",
    "# 모든 x 값을 한 번씩 대입해 predict_result 리스트를 완성합니다.\n",
    "for i in range(len(x)):\n",
    "    predict_result.append(predict(x[i]))\n",
    "    print('공부시간 = %.f, 실제점수 = %.f, 예측점수 = %.f' % (x[i], y[i], predict(x[i])))\n",
    "    \n",
    "# 평균 제곱 오차 함수를 각 y 값에 대입해 최종 값을 구하는 함수입니다.\n",
    "n = len(x)\n",
    "def mse(y, y_pred):\n",
    "    return (1/n) * sum((y - y_pred)**2)\n",
    "\n",
    "# 평균 제곱 오차 값을 출력합니다.\n",
    "print('평균 제곱 오차: ' + str(mse(y, predict_result)))"
   ]
  },
  {
   "cell_type": "code",
   "execution_count": null,
   "id": "886a3ebb",
   "metadata": {},
   "outputs": [],
   "source": []
  },
  {
   "cell_type": "code",
   "execution_count": null,
   "id": "476a38f5",
   "metadata": {},
   "outputs": [],
   "source": []
  },
  {
   "cell_type": "code",
   "execution_count": null,
   "id": "56acad37",
   "metadata": {},
   "outputs": [],
   "source": []
  },
  {
   "cell_type": "code",
   "execution_count": null,
   "id": "6746f1f3",
   "metadata": {},
   "outputs": [],
   "source": []
  },
  {
   "cell_type": "code",
   "execution_count": null,
   "id": "fbe208e8",
   "metadata": {},
   "outputs": [],
   "source": []
  },
  {
   "cell_type": "code",
   "execution_count": null,
   "id": "f4107099",
   "metadata": {},
   "outputs": [],
   "source": []
  },
  {
   "cell_type": "code",
   "execution_count": null,
   "id": "a255d6f0",
   "metadata": {},
   "outputs": [],
   "source": []
  },
  {
   "cell_type": "code",
   "execution_count": null,
   "id": "43e403e2",
   "metadata": {},
   "outputs": [],
   "source": []
  },
  {
   "cell_type": "code",
   "execution_count": null,
   "id": "fcc0a531",
   "metadata": {},
   "outputs": [],
   "source": []
  },
  {
   "cell_type": "code",
   "execution_count": null,
   "id": "29c2aad0",
   "metadata": {},
   "outputs": [],
   "source": []
  },
  {
   "cell_type": "code",
   "execution_count": null,
   "id": "ca7d166e",
   "metadata": {},
   "outputs": [],
   "source": []
  }
 ],
 "metadata": {
  "kernelspec": {
   "display_name": "Python 3 (ipykernel)",
   "language": "python",
   "name": "python3"
  },
  "language_info": {
   "codemirror_mode": {
    "name": "ipython",
    "version": 3
   },
   "file_extension": ".py",
   "mimetype": "text/x-python",
   "name": "python",
   "nbconvert_exporter": "python",
   "pygments_lexer": "ipython3",
   "version": "3.9.13"
  }
 },
 "nbformat": 4,
 "nbformat_minor": 5
}
