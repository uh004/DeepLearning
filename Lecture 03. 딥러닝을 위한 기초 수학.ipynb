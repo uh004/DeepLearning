{
 "cells": [
  {
   "cell_type": "markdown",
   "id": "5489f6f7",
   "metadata": {},
   "source": [
    "# 01. 일차 함수, 기울기와 y-절편"
   ]
  },
  {
   "cell_type": "markdown",
   "id": "43333728",
   "metadata": {},
   "source": [
    "# 일차 함수\n",
    "- y가 x에 관한 일차식으로 표현된 경우를 의미\n",
    "- y = ax + b (a !=0)"
   ]
  },
  {
   "cell_type": "markdown",
   "id": "d04aba06",
   "metadata": {},
   "source": [
    "# 기울기와 y-절편이란?\n",
    "- 일차 함수식 y = ax + b에서 a는 기울기, b는 y-절편이라고 함\n",
    "- x 값이 증가할 때 y 값이 어느 정도 증가하는지에 따라 그래프의 기울기 a가 정해짐"
   ]
  },
  {
   "cell_type": "markdown",
   "id": "77b99d2b",
   "metadata": {},
   "source": [
    "# 02. 이차 함수와 최솟값\n",
    "- y가 x에 관한 이차식으로 표현되는 경우를 의미\n",
    "- y = ax**2 (a != 0)\n",
    "- a > 0이면 아래로 볼록한 그래프 포물선 모양"
   ]
  },
  {
   "cell_type": "markdown",
   "id": "065bf43a",
   "metadata": {},
   "source": [
    "# 이차 함수 그래프의 평행 이동과 최솟값\n",
    "- y = ax**2의 그래프를 x축 방향으로 p만큼, y축 방향으로 q만큼 평행 이동시키면 아래 그림과 같이 점 (p,q)꼭짓점 하는 포물선이 됨 -> 맨 아래에 위치한 지점이 최솟값\n",
    "- 대부분 최소 제곱법을 할용할 수 없음 -> 딥러닝에서는 미분과 기울기를 이용한다."
   ]
  },
  {
   "cell_type": "markdown",
   "id": "b7af00e9",
   "metadata": {},
   "source": [
    "# 03. 미분, 순간 변화율과 기울기\n",
    "- 딥러닝을 이해하는 데 가장 중요한 수학 원리는 미분이라고 할 수 있음\n",
    "- 이 최솟값을 미분으로 구하기 때문에 미분이 딥러닝에서 중요한 것"
   ]
  },
  {
   "cell_type": "markdown",
   "id": "e1b5305a",
   "metadata": {},
   "source": [
    "# 순간 변화율과 기울기\n",
    "- 순간 변화율: 실제로 움직이는 것이 아니라 방향만 드러내는 정도의 순간적인 변화만 있을 것\n",
    "- 기울기: 순간 변화율은 어느 쪽을 향하는 방향성을 지니고 있으므로, 이 방향을 따라 직선을 길게 그려 주면 그래프와 맞닿는 접선이 그려지는거\n",
    "- 미분 계수: 어느 순간에 어떤 변화가 일어나고 있는지 숫자로 나타낸 것 -> 그래프에서 기울기 의미"
   ]
  },
  {
   "cell_type": "markdown",
   "id": "b3df6cc2",
   "metadata": {},
   "source": [
    "# 04. 편미분\n",
    "- 여러 가지 변수가 식 안에 있을 때, 모든 변수를 미분하는 것이 아니라 우가 원하는 한 가지 변수로만 미분하고 그 외에는 모두 상수로 취급"
   ]
  },
  {
   "cell_type": "markdown",
   "id": "d8dbd232",
   "metadata": {},
   "source": [
    "# 05. 지수와 지수 함수\n",
    "- a**ㅁ -> a를 밑 ㅁ를 지수라고 함\n",
    "- y = a**2 (a != 1, a > 0)\n",
    "- 지수 함수에서는 밑(a) 값이 무엇인지 중요 이 값이 1이면 함수가 아님"
   ]
  },
  {
   "cell_type": "markdown",
   "id": "06078ab5",
   "metadata": {},
   "source": [
    "# 06. 시그모이드 함수\n",
    "- 활성화 함수: 출력 값으로 얼마나 내보낼지를 계산하는 함수\n",
    "- 시그모이드 함수: 지수 함수에서 밑 값이 자연 상수 e인 함수를 의미\n",
    "- 시그모이드 함수를 그래프로 그려 보면 S자 형태로 나타냄\n",
    "- x가 큰 값을 가지면 1에 작은 값을 가지면 0에 가까워짐"
   ]
  },
  {
   "cell_type": "markdown",
   "id": "3893642f",
   "metadata": {},
   "source": [
    "# 07. 로그와 로그 함수\n",
    "- a**x = b -> (로그변환) log(a밑)b = x\n",
    "- 로그가 지수와 이렇게 밀접한 관계가 있듯이 로그 함수 역시 지수 함수와 밀접한 관계에 있음\n",
    "- 역함수의 관계 -> 역함수는 x와 y를 서로 빠구어 가지는 함수"
   ]
  }
 ],
 "metadata": {
  "kernelspec": {
   "display_name": "Python 3 (ipykernel)",
   "language": "python",
   "name": "python3"
  },
  "language_info": {
   "codemirror_mode": {
    "name": "ipython",
    "version": 3
   },
   "file_extension": ".py",
   "mimetype": "text/x-python",
   "name": "python",
   "nbconvert_exporter": "python",
   "pygments_lexer": "ipython3",
   "version": "3.9.13"
  }
 },
 "nbformat": 4,
 "nbformat_minor": 5
}
