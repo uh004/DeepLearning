{
 "cells": [
  {
   "cell_type": "markdown",
   "id": "bf637a0c",
   "metadata": {},
   "source": [
    "# 가장 훌륭한 예측선\n",
    "1. 선형 회귀\n",
    "2. 로지스틱 회귀"
   ]
  },
  {
   "cell_type": "markdown",
   "id": "2e587ed9",
   "metadata": {},
   "source": [
    "# 01. 선형 회귀의 정의\n",
    "- 독립 변수: 독립적으로 변할 수 있는 값 x\n",
    "- 종속 변수: 독립 변수에 따라 종속적으로 변하는 y\n",
    "- 단순 선형 회귀(Simple Linear Regression): 하나의 x 값만으로도 y 값을 설명할 수 있다.\n",
    "- 다중 선형 회귀(Multiple Linear Regression): x 값이 여러 개 필요하다면"
   ]
  },
  {
   "cell_type": "markdown",
   "id": "6604c4f4",
   "metadata": {},
   "source": [
    "# 02. 가장 훌륭한 예측선이란?\n",
    "- y = ax + b 여기서 x = 독립 변수 y = 종속 변수\n",
    "- x 값에 따라 y 값은 반드시 달라짐"
   ]
  },
  {
   "cell_type": "markdown",
   "id": "dbd2a53c",
   "metadata": {},
   "source": [
    "# 03. 최소 제곱법\n",
    "- 일차 함수의 기울기 a와 y절편 b를 구할 수 있음\n",
    "- 기울기 a = (x-x평균)(y-y평균)의 합 / (x-x평균)**2의 합\n",
    "- y절편 b = y의 평균 - (x의 평균 X 기울기 a)"
   ]
  },
  {
   "cell_type": "markdown",
   "id": "56d48dcd",
   "metadata": {},
   "source": [
    "# 04. 파이썬 코딩으로 확인하는 최소 제곱"
   ]
  },
  {
   "cell_type": "code",
   "execution_count": 4,
   "id": "c44cb677",
   "metadata": {},
   "outputs": [
    {
     "name": "stdout",
     "output_type": "stream",
     "text": [
      "x의 평균값:  5.0\n",
      "y의 평균값:  90.5\n",
      "분모:  20.0\n",
      "분자:  46.0\n",
      "기울기 a = 2.3\n",
      "y 절편 b = 79.0\n"
     ]
    }
   ],
   "source": [
    "import numpy as np\n",
    "\n",
    "# 공부한 시간과 점수를 각각 x, y라는 이름의 넘파이 배열로 만든다.\n",
    "x = np.array([2,4,6,8])\n",
    "y = np.array([81,93,91,97])\n",
    "\n",
    "# x, y의 평균값을 구합니다.\n",
    "mx = np.mean(x)\n",
    "my = np.mean(y)\n",
    "\n",
    "# 출력으로 확인하기\n",
    "print('x의 평균값: ', mx)\n",
    "print('y의 평균값: ', my)\n",
    "\n",
    "# 기울기 공식의 분모 부분입니다.\n",
    "divisor = sum([(i - mx)**2 for i in x])\n",
    "\n",
    "# 기울기 공식의 분자 부분입니다.\n",
    "def top(x, mx, y, my):\n",
    "    d = 0\n",
    "    for i in range(len(x)):\n",
    "        d += (x[i] -mx) * (y[i] - my)\n",
    "    return d\n",
    "dividend = top(x, mx, y, my)\n",
    "\n",
    "# 출력으로 확인합니다.\n",
    "print('분모: ', divisor)\n",
    "print('분자: ', dividend)\n",
    "\n",
    "# 기울기 a를 구하는 공식\n",
    "a = dividend / divisor\n",
    "\n",
    "# y 절편 b를 구하는 공식\n",
    "b = my - (mx*a)\n",
    "\n",
    "# 출력으로 확인\n",
    "print(f'기울기 a = {a}')\n",
    "print(f'y 절편 b = {b}')"
   ]
  },
  {
   "cell_type": "markdown",
   "id": "849296b1",
   "metadata": {},
   "source": [
    "# 05. 평균 제곱 오차(Mean Square Error, MSE)\n",
    "- 오차를 구할 때 가장 많이 사용되는 방법\n",
    "- 오차 = 실제 값 - 예측 값"
   ]
  },
  {
   "cell_type": "markdown",
   "id": "b5961c74",
   "metadata": {},
   "source": [
    "# 06. 파이썬 코딩으로 확인하는 평균 제곱"
   ]
  },
  {
   "cell_type": "code",
   "execution_count": 5,
   "id": "04f4e162",
   "metadata": {},
   "outputs": [
    {
     "name": "stdout",
     "output_type": "stream",
     "text": [
      "공부시간=2, 실제점수=81, 예측점수=82\n",
      "공부시간=4, 실제점수=93, 예측점수=88\n",
      "공부시간=6, 실제점수=91, 예측점수=94\n",
      "공부시간=8, 실제점수=97, 예측점수=100\n",
      "평균 제곱 오차: 11.0\n"
     ]
    }
   ],
   "source": [
    "import numpy as np\n",
    "\n",
    "# 가상의 기울기 a와 y 절편 b를 정합니다.\n",
    "fake_a = 3\n",
    "fake_b = 76\n",
    "\n",
    "# 공부 시간 x와 성적 y의 넘파이 배열을 만듭니다.\n",
    "x = np.array([2,4,6,8])\n",
    "y = np.array([81,93,91,97])\n",
    "\n",
    "# y = ax + b의 가상의 a 값과 b 값을 대입한 결과를 출력하는 함수\n",
    "def predict(x):\n",
    "    return fake_a * x + fake_b\n",
    "\n",
    "# 예측 값이 들어갈 빈 리스트를 만듭니다.\n",
    "predict_result = []\n",
    "\n",
    "# 모든 x 값을 한 번씩 대입해 predict_result 리스트를 완성합니다.\n",
    "for i in range(len(x)):\n",
    "    predict_result.append(predict(x[i]))\n",
    "    print(f'공부시간={x[i]}, 실제점수={y[i]}, 예측점수={predict(x[i])}')\n",
    "    \n",
    "# 평균 제곱 오차 함수를 각 y 값에 대입해 최종 값을 구하는 함수\n",
    "n = len(x)\n",
    "def mse(y, y_pred):\n",
    "    return (1/n) * sum((y - y_pred)**2)\n",
    "\n",
    "# 평균 제곱 오차 값을 출력\n",
    "print(f'평균 제곱 오차: {str(mse(y, predict_result))}')"
   ]
  }
 ],
 "metadata": {
  "kernelspec": {
   "display_name": "Python 3 (ipykernel)",
   "language": "python",
   "name": "python3"
  },
  "language_info": {
   "codemirror_mode": {
    "name": "ipython",
    "version": 3
   },
   "file_extension": ".py",
   "mimetype": "text/x-python",
   "name": "python",
   "nbconvert_exporter": "python",
   "pygments_lexer": "ipython3",
   "version": "3.9.13"
  }
 },
 "nbformat": 4,
 "nbformat_minor": 5
}
