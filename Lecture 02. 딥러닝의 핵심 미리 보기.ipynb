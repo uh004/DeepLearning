{
 "cells": [
  {
   "cell_type": "code",
   "execution_count": 1,
   "id": "acce9b32",
   "metadata": {},
   "outputs": [],
   "source": [
    "# 1. 환경 준비\n",
    "from tensorflow.keras.models import Sequential\n",
    "from tensorflow.keras.layers import Dense\n",
    "import numpy as np"
   ]
  },
  {
   "cell_type": "code",
   "execution_count": 4,
   "id": "3e34ed12",
   "metadata": {},
   "outputs": [],
   "source": [
    "# 2. 데이터 준비\n",
    "Data_set = np.loadtxt('ThoracicSurgery3.csv', delimiter=',')\n",
    "x = Data_set[:, 0:16] # 모든 행 1~16열 까지 가져오기\n",
    "y = Data_set[:, 16] # 모든 행 16행 가져오기"
   ]
  },
  {
   "cell_type": "code",
   "execution_count": 5,
   "id": "c4e22eee",
   "metadata": {},
   "outputs": [],
   "source": [
    "# 3. 구조 결정\n",
    "model = Sequential()\n",
    "model.add(Dense(30, input_dim=16, activation='relu'))\n",
    "model.add(Dense(1, activation='sigmoid'))"
   ]
  },
  {
   "cell_type": "code",
   "execution_count": 7,
   "id": "3927d275",
   "metadata": {},
   "outputs": [
    {
     "name": "stdout",
     "output_type": "stream",
     "text": [
      "Epoch 1/5\n",
      "30/30 [==============================] - 1s 2ms/step - loss: 5.7377 - accuracy: 0.1574\n",
      "Epoch 2/5\n",
      "30/30 [==============================] - 0s 2ms/step - loss: 0.5263 - accuracy: 0.8340\n",
      "Epoch 3/5\n",
      "30/30 [==============================] - 0s 2ms/step - loss: 0.4744 - accuracy: 0.8511\n",
      "Epoch 4/5\n",
      "30/30 [==============================] - 0s 2ms/step - loss: 0.4451 - accuracy: 0.8511\n",
      "Epoch 5/5\n",
      "30/30 [==============================] - 0s 2ms/step - loss: 0.4401 - accuracy: 0.8511\n"
     ]
    }
   ],
   "source": [
    "# 4. 모델 실행\n",
    "model.compile(loss='binary_crossentropy', optimizer='adam', metrics=['accuracy'])\n",
    "history = model.fit(x,y, epochs=5, batch_size=16)"
   ]
  },
  {
   "cell_type": "code",
   "execution_count": null,
   "id": "0ab088c1",
   "metadata": {},
   "outputs": [],
   "source": [
    "# 선형 회귀, 로지스틱 회귀 등 기초 통계학 개념들도 필요"
   ]
  }
 ],
 "metadata": {
  "kernelspec": {
   "display_name": "Python 3 (ipykernel)",
   "language": "python",
   "name": "python3"
  },
  "language_info": {
   "codemirror_mode": {
    "name": "ipython",
    "version": 3
   },
   "file_extension": ".py",
   "mimetype": "text/x-python",
   "name": "python",
   "nbconvert_exporter": "python",
   "pygments_lexer": "ipython3",
   "version": "3.9.13"
  }
 },
 "nbformat": 4,
 "nbformat_minor": 5
}
